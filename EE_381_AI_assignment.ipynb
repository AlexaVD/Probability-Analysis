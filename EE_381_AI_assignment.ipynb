{
  "nbformat": 4,
  "nbformat_minor": 0,
  "metadata": {
    "colab": {
      "provenance": [],
      "include_colab_link": true
    },
    "kernelspec": {
      "name": "python3",
      "display_name": "Python 3"
    },
    "language_info": {
      "name": "python"
    }
  },
  "cells": [
    {
      "cell_type": "markdown",
      "metadata": {
        "id": "view-in-github",
        "colab_type": "text"
      },
      "source": [
        "<a href=\"https://colab.research.google.com/github/AlexaVD/Probability-Analysis/blob/main/EE_381_AI_assignment.ipynb\" target=\"_parent\"><img src=\"https://colab.research.google.com/assets/colab-badge.svg\" alt=\"Open In Colab\"/></a>"
      ]
    },
    {
      "cell_type": "markdown",
      "source": [
        "## Probability in Medical Diagnostics and Sleep Analysis"
      ],
      "metadata": {
        "id": "SH587dfmuYjX"
      }
    },
    {
      "cell_type": "markdown",
      "source": [
        "### Setup and Dataset Exploration\n",
        "\n",
        "**Step 1: Import Necessary Libraries**"
      ],
      "metadata": {
        "id": "8aKO0R-axHFV"
      }
    },
    {
      "cell_type": "markdown",
      "source": [
        "# import necessary libraries"
      ],
      "metadata": {
        "id": "Fs2SxD42yrW6"
      }
    },
    {
      "cell_type": "code",
      "execution_count": 10,
      "metadata": {
        "id": "xdYMpjg1txFu"
      },
      "outputs": [],
      "source": [
        "import pandas as pd\n",
        "import numpy as np\n",
        "import matplotlib.pyplot as plt\n",
        "import seaborn as sns\n",
        "from scipy.stats import bernoulli, binom, geom, hypergeom, poisson, ttest_ind"
      ]
    },
    {
      "cell_type": "markdown",
      "source": [
        "**Step 2: Load and Inspect the Dataset**"
      ],
      "metadata": {
        "id": "8zKlkbsyyoVa"
      }
    },
    {
      "cell_type": "code",
      "source": [
        "url = '/content/Sleep_health_and_lifestyle_dataset.csv' # Replace with actual dataset URL\n",
        "df = pd.read_csv(url)"
      ],
      "metadata": {
        "id": "Q3ZGfCLhycjq"
      },
      "execution_count": 12,
      "outputs": []
    },
    {
      "cell_type": "markdown",
      "source": [
        "Inspect dataset"
      ],
      "metadata": {
        "id": "b6LFYZ_8ymR0"
      }
    },
    {
      "cell_type": "code",
      "source": [
        "print(df.head())\n",
        "print(df.info())"
      ],
      "metadata": {
        "colab": {
          "base_uri": "https://localhost:8080/"
        },
        "id": "prEWUCp5yae_",
        "outputId": "31acb4dc-3f3d-4d52-b6a8-0cadc3263f95"
      },
      "execution_count": 13,
      "outputs": [
        {
          "output_type": "stream",
          "name": "stdout",
          "text": [
            "   Person ID Gender  Age            Occupation  Sleep Duration  \\\n",
            "0          1   Male   27     Software Engineer             6.1   \n",
            "1          2   Male   28                Doctor             6.2   \n",
            "2          3   Male   28                Doctor             6.2   \n",
            "3          4   Male   28  Sales Representative             5.9   \n",
            "4          5   Male   28  Sales Representative             5.9   \n",
            "\n",
            "   Quality of Sleep  Physical Activity Level  Stress Level BMI Category  \\\n",
            "0                 6                       42             6   Overweight   \n",
            "1                 6                       60             8       Normal   \n",
            "2                 6                       60             8       Normal   \n",
            "3                 4                       30             8        Obese   \n",
            "4                 4                       30             8        Obese   \n",
            "\n",
            "  Blood Pressure  Heart Rate  Daily Steps Sleep Disorder  \n",
            "0         126/83          77         4200            NaN  \n",
            "1         125/80          75        10000            NaN  \n",
            "2         125/80          75        10000            NaN  \n",
            "3         140/90          85         3000    Sleep Apnea  \n",
            "4         140/90          85         3000    Sleep Apnea  \n",
            "<class 'pandas.core.frame.DataFrame'>\n",
            "RangeIndex: 374 entries, 0 to 373\n",
            "Data columns (total 13 columns):\n",
            " #   Column                   Non-Null Count  Dtype  \n",
            "---  ------                   --------------  -----  \n",
            " 0   Person ID                374 non-null    int64  \n",
            " 1   Gender                   374 non-null    object \n",
            " 2   Age                      374 non-null    int64  \n",
            " 3   Occupation               374 non-null    object \n",
            " 4   Sleep Duration           374 non-null    float64\n",
            " 5   Quality of Sleep         374 non-null    int64  \n",
            " 6   Physical Activity Level  374 non-null    int64  \n",
            " 7   Stress Level             374 non-null    int64  \n",
            " 8   BMI Category             374 non-null    object \n",
            " 9   Blood Pressure           374 non-null    object \n",
            " 10  Heart Rate               374 non-null    int64  \n",
            " 11  Daily Steps              374 non-null    int64  \n",
            " 12  Sleep Disorder           155 non-null    object \n",
            "dtypes: float64(1), int64(7), object(5)\n",
            "memory usage: 38.1+ KB\n",
            "None\n"
          ]
        }
      ]
    },
    {
      "cell_type": "markdown",
      "source": [
        "Handle missing values\n",
        "df = df.dropna() # Example: dropping rows with missing values"
      ],
      "metadata": {
        "id": "y4kkWnuNyvjp"
      }
    },
    {
      "cell_type": "markdown",
      "source": [
        "### Part 1: Probability Distributions (Your Implementation)\n"
      ],
      "metadata": {
        "id": "q5aQ_nbey8cd"
      }
    },
    {
      "cell_type": "markdown",
      "source": [
        "**Task 1: Bernoulli and Binomial Models**\n",
        "- Define a binary outcome for good sleep quality (Quality ≥8).\n",
        "- Conduct Bernoulli trials and use the Binomial distribution."
      ],
      "metadata": {
        "id": "T1tejyVhIrKn"
      }
    },
    {
      "cell_type": "code",
      "source": [
        "df['Good Sleep'] = (df['Quality of Sleep'] >= 8).astype(int)\n",
        "\n",
        "p_good = df['Good Sleep'].mean()\n",
        "print(\"Probability of Good Sleep:\", p_good)\n",
        "\n",
        "from scipy.stats import binom\n",
        "n = 10\n",
        "x = 6\n",
        "prob_binom = binom.pmf(x, n, p_good)\n",
        "print(f\"P(Exactly {x} good sleepers out of {n}):\", prob_binom)"
      ],
      "metadata": {
        "id": "do8YWw1ayvRk",
        "outputId": "297b7f68-155e-4925-db35-bec66c4553a9",
        "colab": {
          "base_uri": "https://localhost:8080/"
        }
      },
      "execution_count": 14,
      "outputs": [
        {
          "output_type": "stream",
          "name": "stdout",
          "text": [
            "Probability of Good Sleep (Bernoulli p): 0.48128342245989303\n",
            "P(Exactly 6 good sleepers out of 10): 0.18894927204382023\n"
          ]
        }
      ]
    },
    {
      "cell_type": "markdown",
      "source": [
        "**Task 2: Geometric Distribution**\n",
        "- Calculate the number of trials until you first observe poor sleep quality (Quality ≤4)."
      ],
      "metadata": {
        "id": "Bfdwdll1zD9h"
      }
    },
    {
      "cell_type": "code",
      "source": [
        "p_poor = (df['Quality of Sleep'] <= 4).mean()\n",
        "print(\"Probability of Poor Sleep:\", p_poor)\n",
        "\n",
        "x = 3\n",
        "prob_geom = geom.pmf(x, p_poor)\n",
        "print(f\"P(First poor sleep on trial {x}):\", prob_geom)"
      ],
      "metadata": {
        "id": "wXRQpbjHzHpK",
        "outputId": "97741a7b-205f-4187-8de3-7f99560dcf22",
        "colab": {
          "base_uri": "https://localhost:8080/"
        }
      },
      "execution_count": 15,
      "outputs": [
        {
          "output_type": "stream",
          "name": "stdout",
          "text": [
            "Probability of Poor Sleep: 0.013368983957219251\n",
            "P(First poor sleep on trial 3): 0.01301391392804291\n"
          ]
        }
      ]
    },
    {
      "cell_type": "markdown",
      "source": [
        "**Task 3: Hypergeometric Distribution**\n",
        "- Perform hypergeometric sampling for a subgroup (e.g., high stress individuals)."
      ],
      "metadata": {
        "id": "W4Anxyy7zI-Y"
      }
    },
    {
      "cell_type": "code",
      "source": [
        "from scipy.stats import hypergeom\n",
        "\n",
        "N = len(df)\n",
        "\n",
        "K = len(df[df['Stress Level'] >= 7])\n",
        "\n",
        "n = 20\n",
        "x = 5\n",
        "\n",
        "prob_hyper = hypergeom.pmf(x, N, K, n)\n",
        "print(f\"P(Exactly {x} highly-stressed in sample of {n}):\", prob_hyper)"
      ],
      "metadata": {
        "id": "UXtZXhPPzKYe",
        "outputId": "7cbefa18-4861-4f97-94ca-45ea24f19327",
        "colab": {
          "base_uri": "https://localhost:8080/"
        }
      },
      "execution_count": 17,
      "outputs": [
        {
          "output_type": "stream",
          "name": "stdout",
          "text": [
            "P(Exactly 5 highly-stressed in sample of 20): 0.16080210374552562\n"
          ]
        }
      ]
    },
    {
      "cell_type": "markdown",
      "source": [
        "**Task 4: Poisson Distribution**\n",
        "- Simulate the weekly occurrence of poor sleep quality cases."
      ],
      "metadata": {
        "id": "mpJZsy5HzM3d"
      }
    },
    {
      "cell_type": "code",
      "source": [
        "from scipy.stats import poisson\n",
        "\n",
        "poor_sleep_count = (df['Quality of Sleep'] <= 4).sum()\n",
        "lambda_week = poor_sleep_count / len(df) * 7\n",
        "\n",
        "print(\"Estimated weekly rate of poor sleep (λ):\", lambda_week)\n",
        "\n",
        "x = 5\n",
        "prob_poisson = poisson.pmf(x, mu=lambda_week)\n",
        "print(f\"P(Exactly {x} poor sleep cases in a week):\", prob_poisson)"
      ],
      "metadata": {
        "id": "Qp_n7WEVzOl1",
        "outputId": "eb635c12-8915-4259-de41-a44463eb3a8c",
        "colab": {
          "base_uri": "https://localhost:8080/"
        }
      },
      "execution_count": 18,
      "outputs": [
        {
          "output_type": "stream",
          "name": "stdout",
          "text": [
            "Estimated weekly rate of poor sleep (λ): 0.09358288770053476\n",
            "P(Exactly 5 poor sleep cases in a week): 5.4470132658722964e-08\n"
          ]
        }
      ]
    },
    {
      "cell_type": "markdown",
      "source": [
        "### Part 2: Bayesian Inference (Your Implementation)\n",
        "- Update the probability of good sleep quality based on new evidence (e.g., low stress levels).\n"
      ],
      "metadata": {
        "id": "U7k0ZsthzR9T"
      }
    },
    {
      "cell_type": "code",
      "source": [
        "# Provided Bayesian Function\n",
        "def bayes(prior, likelihood, evidence):\n",
        "    return (likelihood * prior) / evidence\n",
        "\n",
        "prior = (df['Quality of Sleep'] >= 8).mean()\n",
        "\n",
        "likelihood = len(df[(df['Quality of Sleep'] >= 8) & (df['Stress Level'] <= 3)]) / len(df[df['Quality of Sleep'] >= 8])\n",
        "\n",
        "evidence = (df['Stress Level'] <= 3).mean()\n",
        "\n",
        "posterior = bayes(prior, likelihood, evidence)\n",
        "print(\"P(Good Sleep | Low Stress):\", posterior)\n"
      ],
      "metadata": {
        "id": "Xl2GlKRGzSkF",
        "outputId": "9583dd72-daec-4c1b-d135-144c9ff1c579",
        "colab": {
          "base_uri": "https://localhost:8080/"
        }
      },
      "execution_count": 20,
      "outputs": [
        {
          "output_type": "stream",
          "name": "stdout",
          "text": [
            "P(Good Sleep | Low Stress): 0.9999999999999999\n"
          ]
        }
      ]
    },
    {
      "cell_type": "markdown",
      "source": [
        "### Part 3: Hypothesis Testing (Your Implementation)\n",
        "- Conduct hypothesis testing to compare groups (e.g., low vs high stress levels) in terms of sleep quality.\n"
      ],
      "metadata": {
        "id": "OLaizgCOzT-d"
      }
    },
    {
      "cell_type": "code",
      "source": [
        "from scipy.stats import ttest_ind\n",
        "\n",
        "low_stress = df[df['Stress Level'] <= 3]['Quality of Sleep']\n",
        "high_stress = df[df['Stress Level'] >= 7]['Quality of Sleep']\n",
        "\n",
        "t_stat, p_val = ttest_ind(low_stress, high_stress, equal_var=False)\n",
        "\n",
        "print(\"T-statistic:\", t_stat)\n",
        "print(\"P-value:\", p_val)\n",
        "\n",
        "if p_val < 0.05:\n",
        "    print(\"Significant difference in sleep quality between stress groups.\")\n",
        "else:\n",
        "    print(\"No significant difference found.\")\n"
      ],
      "metadata": {
        "id": "5ZP4DrAmzbkG",
        "outputId": "fd64c08e-613e-4f65-981b-77e35d25684c",
        "colab": {
          "base_uri": "https://localhost:8080/"
        }
      },
      "execution_count": 21,
      "outputs": [
        {
          "output_type": "stream",
          "name": "stdout",
          "text": [
            "T-statistic: 58.64833547347876\n",
            "P-value: 1.0309117838295226e-107\n",
            "Significant difference in sleep quality between stress groups.\n"
          ]
        }
      ]
    },
    {
      "cell_type": "markdown",
      "source": [
        "### Part 4: Visualization\n"
      ],
      "metadata": {
        "id": "twcQpvr4zgmJ"
      }
    },
    {
      "cell_type": "markdown",
      "source": [
        "**Histogram of Sleep Duration**\n"
      ],
      "metadata": {
        "id": "uuZXpoMpzlrL"
      }
    },
    {
      "cell_type": "code",
      "source": [
        "plt.figure(figsize=(8, 6))\n",
        "sns.histplot(df['Sleep Duration'], bins=10, kde=True)\n",
        "plt.title('Distribution of Sleep Duration')\n",
        "plt.xlabel('Hours')\n",
        "plt.ylabel('Frequency')\n",
        "plt.show()"
      ],
      "metadata": {
        "id": "l5NP722xzju6",
        "outputId": "9d10a27d-b227-4f06-acf9-b9fb45b7735b",
        "colab": {
          "base_uri": "https://localhost:8080/",
          "height": 564
        }
      },
      "execution_count": 22,
      "outputs": [
        {
          "output_type": "display_data",
          "data": {
            "text/plain": [
              "<Figure size 800x600 with 1 Axes>"
            ],
            "image/png": "[encoded data removed]"
          },
          "metadata": {}
        }
      ]
    },
    {
      "cell_type": "markdown",
      "source": [
        "**Scatter Plot of Physical Activity vs. Sleep Quality**\n"
      ],
      "metadata": {
        "id": "ndz_aVQJzpO2"
      }
    },
    {
      "cell_type": "code",
      "source": [
        "plt.figure(figsize=(8, 6))\n",
        "sns.scatterplot(x='Physical Activity Level', y='Quality of Sleep', data=df)\n",
        "plt.title('Physical Activity vs Sleep Quality')\n",
        "plt.xlabel('Physical Activity Level')\n",
        "plt.ylabel('Quality of Sleep')\n",
        "plt.show()"
      ],
      "metadata": {
        "id": "65Yd4uAKzrL1",
        "outputId": "5940f8c9-2333-416d-c05b-9950c0965225",
        "colab": {
          "base_uri": "https://localhost:8080/",
          "height": 564
        }
      },
      "execution_count": 23,
      "outputs": [
        {
          "output_type": "display_data",
          "data": {
            "text/plain": [
              "<Figure size 800x600 with 1 Axes>"
            ],
            "image/png": "[encoded data removed]"
          },
          "metadata": {}
        }
      ]
    },
    {
      "cell_type": "markdown",
      "source": [
        "\n",
        "---\n",
        "\n",
        "### **Submission Guidelines**\n",
        "1. Submit your completed notebook (.ipynb file) with all code cells executed.\n",
        "2. Ensure all markdown cells explain your steps clearly.\n",
        "3. Include visualizations embedded within the notebook.\n",
        "\n",
        "---\n",
        "\n",
        "### Grading Criteria:\n",
        "- Correct implementation of probability models (30 points).\n",
        "- Accurate Bayesian inference calculations (20 points).\n",
        "- Proper hypothesis testing with statistical significance (20 points).\n",
        "- Quality of visualizations (20 points).\n",
        "- Documentation and clarity within the notebook (10 points).\n",
        "\n",
        "---\n"
      ],
      "metadata": {
        "id": "XpPaEpEAzzNs"
      }
    }
  ]
}