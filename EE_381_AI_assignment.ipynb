{
  "nbformat": 4,
  "nbformat_minor": 0,
  "metadata": {
    "colab": {
      "provenance": [],
      "include_colab_link": true
    },
    "kernelspec": {
      "name": "python3",
      "display_name": "Python 3"
    },
    "language_info": {
      "name": "python"
    }
  },
  "cells": [
    {
      "cell_type": "markdown",
      "metadata": {
        "id": "view-in-github",
        "colab_type": "text"
      },
      "source": [
        "<a href=\"https://colab.research.google.com/github/AlexaVD/Probability-Analysis/blob/main/EE_381_AI_assignment.ipynb\" target=\"_parent\"><img src=\"https://colab.research.google.com/assets/colab-badge.svg\" alt=\"Open In Colab\"/></a>"
      ]
    },
    {
      "cell_type": "markdown",
      "source": [
        "## Probability in Medical Diagnostics and Sleep Analysis"
      ],
      "metadata": {
        "id": "SH587dfmuYjX"
      }
    },
    {
      "cell_type": "markdown",
      "source": [
        "### Setup and Dataset Exploration\n",
        "\n",
        "**Step 1: Import Necessary Libraries**"
      ],
      "metadata": {
        "id": "8aKO0R-axHFV"
      }
    },
    {
      "cell_type": "markdown",
      "source": [
        "# import necessary libraries"
      ],
      "metadata": {
        "id": "Fs2SxD42yrW6"
      }
    },
    {
      "cell_type": "code",
      "execution_count": null,
      "metadata": {
        "id": "xdYMpjg1txFu"
      },
      "outputs": [],
      "source": [
        "import pandas as pd\n",
        "import numpy as np\n",
        "import matplotlib.pyplot as plt\n",
        "import seaborn as sns\n",
        "from scipy.stats import bernoulli, binom, geom, hypergeom, poisson, ttest_ind"
      ]
    },
    {
      "cell_type": "code",
      "source": [],
      "metadata": {
        "id": "JkinKXpuweGd"
      },
      "execution_count": null,
      "outputs": []
    },
    {
      "cell_type": "markdown",
      "source": [
        "**Step 2: Load and Inspect the Dataset**"
      ],
      "metadata": {
        "id": "8zKlkbsyyoVa"
      }
    },
    {
      "cell_type": "code",
      "source": [
        "url = '/content/Sleep_health_and_lifestyle_dataset.csv' # Replace with actual dataset URL\n",
        "df = pd.read_csv(url)"
      ],
      "metadata": {
        "id": "Q3ZGfCLhycjq"
      },
      "execution_count": null,
      "outputs": []
    },
    {
      "cell_type": "markdown",
      "source": [
        "Inspect dataset"
      ],
      "metadata": {
        "id": "b6LFYZ_8ymR0"
      }
    },
    {
      "cell_type": "code",
      "source": [
        "print(df.head())\n",
        "print(df.info())"
      ],
      "metadata": {
        "colab": {
          "base_uri": "https://localhost:8080/"
        },
        "id": "prEWUCp5yae_",
        "outputId": "ab31ec7c-90be-4f72-caba-daa53541f8f4"
      },
      "execution_count": null,
      "outputs": [
        {
          "output_type": "stream",
          "name": "stdout",
          "text": [
            "   Person ID Gender  Age            Occupation  Sleep Duration  \\\n",
            "0          1   Male   27     Software Engineer             6.1   \n",
            "1          2   Male   28                Doctor             6.2   \n",
            "2          3   Male   28                Doctor             6.2   \n",
            "3          4   Male   28  Sales Representative             5.9   \n",
            "4          5   Male   28  Sales Representative             5.9   \n",
            "\n",
            "   Quality of Sleep  Physical Activity Level  Stress Level BMI Category  \\\n",
            "0                 6                       42             6   Overweight   \n",
            "1                 6                       60             8       Normal   \n",
            "2                 6                       60             8       Normal   \n",
            "3                 4                       30             8        Obese   \n",
            "4                 4                       30             8        Obese   \n",
            "\n",
            "  Blood Pressure  Heart Rate  Daily Steps Sleep Disorder  \n",
            "0         126/83          77         4200            NaN  \n",
            "1         125/80          75        10000            NaN  \n",
            "2         125/80          75        10000            NaN  \n",
            "3         140/90          85         3000    Sleep Apnea  \n",
            "4         140/90          85         3000    Sleep Apnea  \n",
            "<class 'pandas.core.frame.DataFrame'>\n",
            "RangeIndex: 374 entries, 0 to 373\n",
            "Data columns (total 13 columns):\n",
            " #   Column                   Non-Null Count  Dtype  \n",
            "---  ------                   --------------  -----  \n",
            " 0   Person ID                374 non-null    int64  \n",
            " 1   Gender                   374 non-null    object \n",
            " 2   Age                      374 non-null    int64  \n",
            " 3   Occupation               374 non-null    object \n",
            " 4   Sleep Duration           374 non-null    float64\n",
            " 5   Quality of Sleep         374 non-null    int64  \n",
            " 6   Physical Activity Level  374 non-null    int64  \n",
            " 7   Stress Level             374 non-null    int64  \n",
            " 8   BMI Category             374 non-null    object \n",
            " 9   Blood Pressure           374 non-null    object \n",
            " 10  Heart Rate               374 non-null    int64  \n",
            " 11  Daily Steps              374 non-null    int64  \n",
            " 12  Sleep Disorder           155 non-null    object \n",
            "dtypes: float64(1), int64(7), object(5)\n",
            "memory usage: 38.1+ KB\n",
            "None\n"
          ]
        }
      ]
    },
    {
      "cell_type": "markdown",
      "source": [
        "Handle missing values\n",
        "df = df.dropna() # Example: dropping rows with missing values"
      ],
      "metadata": {
        "id": "y4kkWnuNyvjp"
      }
    },
    {
      "cell_type": "markdown",
      "source": [
        "### Part 1: Probability Distributions (Your Implementation)\n"
      ],
      "metadata": {
        "id": "q5aQ_nbey8cd"
      }
    },
    {
      "cell_type": "markdown",
      "source": [
        "**Task 1: Bernoulli and Binomial Models**\n",
        "- Define a binary outcome for good sleep quality (Quality ≥8).\n",
        "- Conduct Bernoulli trials and use the Binomial distribution."
      ],
      "metadata": {
        "id": "T1tejyVhIrKn"
      }
    },
    {
      "cell_type": "code",
      "source": [
        "# Your Implementation Here\n"
      ],
      "metadata": {
        "id": "do8YWw1ayvRk"
      },
      "execution_count": null,
      "outputs": []
    },
    {
      "cell_type": "markdown",
      "source": [
        "**Task 2: Geometric Distribution**\n",
        "- Calculate the number of trials until you first observe poor sleep quality (Quality ≤4)."
      ],
      "metadata": {
        "id": "Bfdwdll1zD9h"
      }
    },
    {
      "cell_type": "code",
      "source": [
        "# Your Implementation Here\n"
      ],
      "metadata": {
        "id": "wXRQpbjHzHpK"
      },
      "execution_count": null,
      "outputs": []
    },
    {
      "cell_type": "markdown",
      "source": [
        "**Task 3: Hypergeometric Distribution**\n",
        "- Perform hypergeometric sampling for a subgroup (e.g., high stress individuals)."
      ],
      "metadata": {
        "id": "W4Anxyy7zI-Y"
      }
    },
    {
      "cell_type": "code",
      "source": [
        "# Your Implementation Here"
      ],
      "metadata": {
        "id": "UXtZXhPPzKYe"
      },
      "execution_count": null,
      "outputs": []
    },
    {
      "cell_type": "markdown",
      "source": [
        "**Task 4: Poisson Distribution**\n",
        "- Simulate the weekly occurrence of poor sleep quality cases."
      ],
      "metadata": {
        "id": "mpJZsy5HzM3d"
      }
    },
    {
      "cell_type": "code",
      "source": [
        "# Your Implementation Here"
      ],
      "metadata": {
        "id": "Qp_n7WEVzOl1"
      },
      "execution_count": null,
      "outputs": []
    },
    {
      "cell_type": "markdown",
      "source": [
        "### Part 2: Bayesian Inference (Your Implementation)\n",
        "- Update the probability of good sleep quality based on new evidence (e.g., low stress levels).\n"
      ],
      "metadata": {
        "id": "U7k0ZsthzR9T"
      }
    },
    {
      "cell_type": "code",
      "source": [
        "# Provided Bayesian Function\n",
        "def bayes(prior, likelihood, evidence):\n",
        "    return (likelihood * prior) / evidence\n",
        "\n",
        "# Your Implementation Here"
      ],
      "metadata": {
        "id": "Xl2GlKRGzSkF"
      },
      "execution_count": null,
      "outputs": []
    },
    {
      "cell_type": "markdown",
      "source": [
        "### Part 3: Hypothesis Testing (Your Implementation)\n",
        "- Conduct hypothesis testing to compare groups (e.g., low vs high stress levels) in terms of sleep quality.\n"
      ],
      "metadata": {
        "id": "OLaizgCOzT-d"
      }
    },
    {
      "cell_type": "code",
      "source": [
        "# Your Implementation Here"
      ],
      "metadata": {
        "id": "5ZP4DrAmzbkG"
      },
      "execution_count": null,
      "outputs": []
    },
    {
      "cell_type": "markdown",
      "source": [
        "### Part 4: Visualization\n"
      ],
      "metadata": {
        "id": "twcQpvr4zgmJ"
      }
    },
    {
      "cell_type": "markdown",
      "source": [
        "**Histogram of Sleep Duration**\n"
      ],
      "metadata": {
        "id": "uuZXpoMpzlrL"
      }
    },
    {
      "cell_type": "code",
      "source": [
        "plt.figure(figsize=(8, 6))\n",
        "sns.histplot(df['Sleep Duration'], bins=10, kde=True)\n",
        "plt.title('Distribution of Sleep Duration')\n",
        "plt.xlabel('Hours')\n",
        "plt.ylabel('Frequency')\n",
        "plt.show()"
      ],
      "metadata": {
        "id": "l5NP722xzju6"
      },
      "execution_count": null,
      "outputs": []
    },
    {
      "cell_type": "markdown",
      "source": [
        "**Scatter Plot of Physical Activity vs. Sleep Quality**\n"
      ],
      "metadata": {
        "id": "ndz_aVQJzpO2"
      }
    },
    {
      "cell_type": "code",
      "source": [
        "plt.figure(figsize=(8, 6))\n",
        "sns.scatterplot(x='Physical Activity Level', y='Quality of Sleep', data=df)\n",
        "plt.title('Physical Activity vs Sleep Quality')\n",
        "plt.xlabel('Physical Activity Level')\n",
        "plt.ylabel('Quality of Sleep')\n",
        "plt.show()"
      ],
      "metadata": {
        "id": "65Yd4uAKzrL1"
      },
      "execution_count": null,
      "outputs": []
    },
    {
      "cell_type": "markdown",
      "source": [
        "\n",
        "---\n",
        "\n",
        "### **Submission Guidelines**\n",
        "1. Submit your completed notebook (.ipynb file) with all code cells executed.\n",
        "2. Ensure all markdown cells explain your steps clearly.\n",
        "3. Include visualizations embedded within the notebook.\n",
        "\n",
        "---\n",
        "\n",
        "### Grading Criteria:\n",
        "- Correct implementation of probability models (30 points).\n",
        "- Accurate Bayesian inference calculations (20 points).\n",
        "- Proper hypothesis testing with statistical significance (20 points).\n",
        "- Quality of visualizations (20 points).\n",
        "- Documentation and clarity within the notebook (10 points).\n",
        "\n",
        "---\n"
      ],
      "metadata": {
        "id": "XpPaEpEAzzNs"
      }
    }
  ]
}